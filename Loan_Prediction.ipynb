{
 "cells": [
  {
   "cell_type": "code",
   "execution_count": null,
   "id": "44791086-4a9e-4f5c-8e97-742b67bfb273",
   "metadata": {},
   "outputs": [],
   "source": [
    "import pandas as pd\n",
    "import numpy as np\n",
    "from matplotlib import pyplot as plt\n",
    "import seaborn as sns"
   ]
  },
  {
   "cell_type": "code",
   "execution_count": null,
   "id": "dd49fab8-f06a-40da-a72d-91485ef47a9c",
   "metadata": {},
   "outputs": [],
   "source": [
    "df=pd.read_csv(\"loan_data.csv\")\n"
   ]
  },
  {
   "cell_type": "code",
   "execution_count": null,
   "id": "38674271-a8a2-4510-a7c2-030f299f7884",
   "metadata": {},
   "outputs": [],
   "source": [
    "df.head()"
   ]
  },
  {
   "cell_type": "code",
   "execution_count": null,
   "id": "aa1829ea-75b5-427f-b6f2-7ced609da407",
   "metadata": {},
   "outputs": [],
   "source": [
    "df.info()"
   ]
  },
  {
   "cell_type": "code",
   "execution_count": null,
   "id": "12155367-f505-47c9-8e34-7e0d6a169c5f",
   "metadata": {},
   "outputs": [],
   "source": [
    "df.shape"
   ]
  },
  {
   "cell_type": "code",
   "execution_count": null,
   "id": "2be48f76-4ed4-446b-aab9-ed345e051943",
   "metadata": {},
   "outputs": [],
   "source": [
    "df.describe()"
   ]
  },
  {
   "cell_type": "code",
   "execution_count": null,
   "id": "34145c18-ed4b-4db2-92fe-8ad80b7a1ef4",
   "metadata": {},
   "outputs": [],
   "source": [
    "df.isnull().sum()"
   ]
  },
  {
   "cell_type": "code",
   "execution_count": null,
   "id": "640b2537-6d21-4286-a596-d787c85fe186",
   "metadata": {},
   "outputs": [],
   "source": [
    "df.duplicated().sum()"
   ]
  },
  {
   "cell_type": "code",
   "execution_count": null,
   "id": "b5e812d2-c56f-449d-b553-42ff6d276f8b",
   "metadata": {},
   "outputs": [],
   "source": [
    "sns.pairplot(data=df)"
   ]
  },
  {
   "cell_type": "code",
   "execution_count": null,
   "id": "6b4f5fe4-72c7-4cfa-8c52-89b6b0f4abed",
   "metadata": {},
   "outputs": [],
   "source": [
    "df.loan_status.value_counts()"
   ]
  },
  {
   "cell_type": "code",
   "execution_count": null,
   "id": "9783ed97-6917-4cb2-af6a-242f5082090f",
   "metadata": {},
   "outputs": [],
   "source": [
    "from sklearn.preprocessing import LabelEncoder\n",
    "label_encoder = LabelEncoder()\n",
    "df['person_education']= label_encoder.fit_transform(df['person_education'])\n",
    "df['person_home_ownership']= label_encoder.fit_transform(df['person_home_ownership'])\n",
    "df['loan_intent']= label_encoder.fit_transform(df['loan_intent'])"
   ]
  },
  {
   "cell_type": "code",
   "execution_count": null,
   "id": "c637b93d-1389-4ecf-910f-8f3d4062a41d",
   "metadata": {},
   "outputs": [],
   "source": [
    "df[\"previous_loan_defaults_on_file\"]=pd.get_dummies(df['previous_loan_defaults_on_file'],drop_first=True)\n",
    "df[\"person_gender\"]=pd.get_dummies(df['person_gender'],drop_first=True)"
   ]
  },
  {
   "cell_type": "code",
   "execution_count": null,
   "id": "1ec00874-7451-4b96-a765-0e76cae8c46a",
   "metadata": {},
   "outputs": [],
   "source": [
    "df[\"person_gender\"]=df[\"person_gender\"].astype(float)\n",
    "df[\"person_education\"]=df[\"person_education\"].astype(float)\n",
    "df[\"person_emp_exp\"]=df[\"person_emp_exp\"].astype(float)\n",
    "df[\"person_home_ownership\"]=df[\"person_home_ownership\"].astype(float)\n",
    "df[\"loan_intent\"]=df[\"loan_intent\"].astype(float)\n",
    "df[\"credit_score\"]=df[\"credit_score\"].astype(float)\n",
    "df[\"previous_loan_defaults_on_file\"]=df[\"previous_loan_defaults_on_file\"].astype(float)\n",
    "df[\"loan_status\"]=df[\"loan_status\"].astype(float)"
   ]
  },
  {
   "cell_type": "code",
   "execution_count": null,
   "id": "53acb5a1-e1a0-4d8a-8baa-65a283e979e0",
   "metadata": {},
   "outputs": [],
   "source": [
    "df.info()"
   ]
  },
  {
   "cell_type": "code",
   "execution_count": null,
   "id": "5526935a-b224-474f-b082-173c973ddbb8",
   "metadata": {},
   "outputs": [],
   "source": [
    "df.plot(kind=\"box\")\n",
    "plt.xticks(rotation=90)\n",
    "plt.show()"
   ]
  },
  {
   "cell_type": "code",
   "execution_count": null,
   "id": "bdc90e9a-190d-4abf-b576-eb3c0f6d0b0f",
   "metadata": {},
   "outputs": [],
   "source": [
    "def outlier(df,fts):\n",
    "    df_no_outliers=df.copy()\n",
    "    for ft in fts:\n",
    "        threshold=2\n",
    "        mean= np.mean(df_no_outliers[ft])\n",
    "        std=np.std(df_no_outliers[ft])\n",
    "        z_score=(df_no_outliers[ft] - mean)/std\n",
    "        df_no_outliers=df_no_outliers[np.abs(z_score)<threshold]\n",
    "    return df_no_outliers"
   ]
  },
  {
   "cell_type": "code",
   "execution_count": null,
   "id": "108b8cef-b36a-47b2-a4e7-520408c257d1",
   "metadata": {},
   "outputs": [],
   "source": [
    "fts=['person_age', 'person_gender', 'person_education', 'person_income',\n",
    "       'person_emp_exp', 'person_home_ownership', 'loan_amnt', 'loan_intent',\n",
    "       'loan_int_rate', 'loan_percent_income', 'cb_person_cred_hist_length',\n",
    "       'credit_score', 'previous_loan_defaults_on_file']\n",
    "df=outlier(df,fts)\n"
   ]
  },
  {
   "cell_type": "code",
   "execution_count": null,
   "id": "9477f7d2-0dc1-4bdc-993a-526de875ee79",
   "metadata": {},
   "outputs": [],
   "source": [
    "df.shape"
   ]
  },
  {
   "cell_type": "code",
   "execution_count": null,
   "id": "607afc7b-4096-4314-8168-3d0cc17b15fa",
   "metadata": {},
   "outputs": [],
   "source": [
    "sns.histplot(df['person_income'], kde=True)"
   ]
  },
  {
   "cell_type": "code",
   "execution_count": null,
   "id": "844dae88-d69f-4c8c-8617-d2e0dfb4f720",
   "metadata": {},
   "outputs": [],
   "source": [
    "X=df.drop(\"loan_status\",axis=1)\n",
    "y=df[\"loan_status\"]"
   ]
  },
  {
   "cell_type": "code",
   "execution_count": null,
   "id": "e05c04b5-0384-49e1-b7ae-828086ca2b17",
   "metadata": {},
   "outputs": [],
   "source": [
    "from sklearn.model_selection import train_test_split\n",
    "X_train,X_test,y_train,y_test=train_test_split(X,y,test_size=0.2,random_state=24)"
   ]
  },
  {
   "cell_type": "code",
   "execution_count": null,
   "id": "f571294c-4f4b-4153-93cc-02a366d3cbc0",
   "metadata": {},
   "outputs": [],
   "source": [
    "from sklearn.preprocessing import StandardScaler\n",
    "scaler=StandardScaler()\n",
    "X_train_scaled=scaler.fit_transform(X_train)\n",
    "X_test_scaled=scaler.transform(X_test)"
   ]
  },
  {
   "cell_type": "code",
   "execution_count": null,
   "id": "22d59be6-6ae1-4480-9210-9aca9aa6b58f",
   "metadata": {},
   "outputs": [],
   "source": [
    "from imblearn.over_sampling import SMOTE\n",
    "\n",
    "sm = SMOTE(random_state=42)\n",
    "X_resampled, y_resampled = sm.fit_resample(X_train_scaled, y_train)"
   ]
  },
  {
   "cell_type": "code",
   "execution_count": null,
   "id": "e41b6600-3530-423a-8b28-c4bc96682939",
   "metadata": {},
   "outputs": [],
   "source": [
    "from sklearn.metrics import classification_report, confusion_matrix, accuracy_score, roc_auc_score, roc_curve\n",
    "from sklearn.ensemble import RandomForestClassifier\n",
    "from sklearn.model_selection import train_test_split, cross_val_score, GridSearchCV, RandomizedSearchCV"
   ]
  },
  {
   "cell_type": "code",
   "execution_count": null,
   "id": "e8b04b94-3265-4013-8824-e180f7633e93",
   "metadata": {},
   "outputs": [],
   "source": [
    "model=RandomForestClassifier(class_weight='balanced',random_state=24)\n",
    "model.fit(X_resampled,y_resampled)"
   ]
  },
  {
   "cell_type": "code",
   "execution_count": null,
   "id": "1d0e73d9-ea46-42a5-82e3-3b4e8332d487",
   "metadata": {},
   "outputs": [],
   "source": [
    "y_pred=model.predict(X_test_scaled)"
   ]
  },
  {
   "cell_type": "code",
   "execution_count": null,
   "id": "a4fa3dfd-8606-485f-bc06-13811fd19f6e",
   "metadata": {},
   "outputs": [],
   "source": [
    "print(\"Accuracy:\",accuracy_score(y_test,y_pred))"
   ]
  },
  {
   "cell_type": "code",
   "execution_count": null,
   "id": "59dfe2b1-96f6-4f5c-a1ee-235665900cef",
   "metadata": {},
   "outputs": [],
   "source": [
    "param_grid = {\n",
    "    'n_estimators': [100, 200, 300],\n",
    "    'max_depth': [10, 20, None],\n",
    "    'min_samples_split': [2, 5, 10],\n",
    "    'min_samples_leaf': [1, 2, 4]\n",
    "}\n",
    "\n",
    "grid = RandomizedSearchCV(RandomForestClassifier(random_state=42),\n",
    "                          param_distributions=param_grid,\n",
    "                          n_iter=10,\n",
    "                          scoring='roc_auc',\n",
    "                          cv=3,\n",
    "                          random_state=42)\n",
    "grid.fit(X_resampled, y_resampled)\n",
    "print(\"Best Params:\", grid.best_params_)\n",
    "\n",
    "# Re-train best model\n",
    "best_model = grid.best_estimator_\n",
    "best_model.fit(X_resampled, y_resampled)"
   ]
  },
  {
   "cell_type": "code",
   "execution_count": null,
   "id": "9855b2ec-65f0-424f-84da-bdc2f939f0b3",
   "metadata": {},
   "outputs": [],
   "source": [
    "y_pred=best_model.predict(X_test_scaled)"
   ]
  },
  {
   "cell_type": "code",
   "execution_count": null,
   "id": "f52693b0-2657-4278-930c-144276035f03",
   "metadata": {},
   "outputs": [],
   "source": [
    "y_probs = model.predict_proba(X_test_scaled)[:, 1]\n",
    "fpr, tpr, thresholds = roc_curve(y_test, y_probs)\n",
    "\n",
    "print(roc_auc_score(y_test,y_probs))"
   ]
  },
  {
   "cell_type": "code",
   "execution_count": null,
   "id": "4dfdb9dd-9dba-4489-abaf-e4e79c7a4311",
   "metadata": {},
   "outputs": [],
   "source": [
    "print(\"C_report:\",classification_report(y_test,y_pred))\n",
    "print(\"Accuracy:\",accuracy_score(y_test,y_pred))\n",
    "auc=accuracy_score(y_test,y_pred)"
   ]
  },
  {
   "cell_type": "code",
   "execution_count": null,
   "id": "23153eb4-58cc-4556-b03b-42a9ac053f90",
   "metadata": {},
   "outputs": [],
   "source": [
    "plt.figure(figsize=(8, 6))\n",
    "plt.plot(fpr, tpr, label=f\"ROC Curve (AUC = {auc:.2f})\")\n",
    "plt.plot([0, 1], [0, 1], linestyle='--', color='red', label=\"Random Guess (AUC = 0.5)\")\n",
    "plt.xlabel(\"False Positive Rate\")\n",
    "plt.ylabel(\"True Positive Rate\")\n",
    "plt.title(\"ROC Curve with AUC Score\")\n",
    "plt.legend(loc=\"lower right\")\n",
    "plt.grid(True)\n",
    "plt.show()"
   ]
  },
  {
   "cell_type": "code",
   "execution_count": null,
   "id": "dde57e72-9e7d-4f99-ab36-c9ae76a6d9ab",
   "metadata": {},
   "outputs": [],
   "source": [
    "from sklearn.metrics import confusion_matrix, ConfusionMatrixDisplay\n",
    "\n",
    "cm = confusion_matrix(y_test, y_pred)\n",
    "disp = ConfusionMatrixDisplay(confusion_matrix=cm)\n",
    "disp.plot(cmap='Blues')"
   ]
  },
  {
   "cell_type": "code",
   "execution_count": null,
   "id": "11096c46-3fdd-4c7c-8652-7379f7b48117",
   "metadata": {},
   "outputs": [],
   "source": [
    "importances = model.feature_importances_\n",
    "features = X.columns\n",
    "forest_importances = pd.Series(importances, index=features)\n",
    "\n",
    "forest_importances.sort_values(ascending=False).plot(kind='bar', figsize=(10,5))\n",
    "plt.title(\"Feature Importances\")\n",
    "plt.show()"
   ]
  },
  {
   "cell_type": "code",
   "execution_count": null,
   "id": "97a2d75b-aef1-481c-9387-53da1bfd5506",
   "metadata": {},
   "outputs": [],
   "source": [
    "#Overfitting check\n",
    "y_train_pred = model.predict(X_resampled)\n",
    "y_test_pred = model.predict(X_test_scaled)\n",
    "print(\"Accuracy of train model:\",accuracy_score(y_resampled,y_train_pred))\n",
    "print(\"Accuracy of test model:\",accuracy_score(y_test,y_test_pred))\n"
   ]
  },
  {
   "cell_type": "code",
   "execution_count": null,
   "id": "6d008eb7-8520-4fd4-a05b-d141f2f18970",
   "metadata": {},
   "outputs": [],
   "source": []
  }
 ],
 "metadata": {
  "kernelspec": {
   "display_name": "Python 3 (ipykernel)",
   "language": "python",
   "name": "python3"
  },
  "language_info": {
   "codemirror_mode": {
    "name": "ipython",
    "version": 3
   },
   "file_extension": ".py",
   "mimetype": "text/x-python",
   "name": "python",
   "nbconvert_exporter": "python",
   "pygments_lexer": "ipython3",
   "version": "3.12.7"
  }
 },
 "nbformat": 4,
 "nbformat_minor": 5
}
